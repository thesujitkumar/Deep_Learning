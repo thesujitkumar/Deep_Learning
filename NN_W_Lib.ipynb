{
 "cells": [
  {
   "cell_type": "markdown",
   "id": "abc8d915",
   "metadata": {},
   "source": [
    "# Python Implementations Neural Network Without Libraries"
   ]
  },
  {
   "cell_type": "code",
   "execution_count": 1,
   "id": "de7f5aee",
   "metadata": {},
   "outputs": [],
   "source": [
    "import numpy as np"
   ]
  },
  {
   "cell_type": "markdown",
   "id": "0396d548",
   "metadata": {},
   "source": [
    "# Define Sigmoid functions"
   ]
  },
  {
   "cell_type": "code",
   "execution_count": 3,
   "id": "378493f3",
   "metadata": {},
   "outputs": [],
   "source": [
    "def sigmoid(x):\n",
    "    return 1 / (1 + np.exp(-x))"
   ]
  },
  {
   "cell_type": "markdown",
   "id": "0e419afd",
   "metadata": {},
   "source": [
    "# Derivative of Sigmoid functions"
   ]
  },
  {
   "cell_type": "code",
   "execution_count": 4,
   "id": "0d70bd22",
   "metadata": {},
   "outputs": [],
   "source": [
    "def sigmoid_derivative(y):\n",
    "    return y * (1.0 - y) "
   ]
  },
  {
   "cell_type": "markdown",
   "id": "7fe7eb71",
   "metadata": {},
   "source": [
    "# Define Neural Network"
   ]
  },
  {
   "cell_type": "code",
   "execution_count": 5,
   "id": "abeef1e8",
   "metadata": {},
   "outputs": [],
   "source": [
    "class NeuralNetwork:\n",
    "    def __init__(self, x, y):\n",
    "        self.input      = x\n",
    "        self.weights1   = np.random.rand(self.input.shape[1],4) \n",
    "        self.weights2   = np.random.rand(4,1)                 \n",
    "        self.y          = y\n",
    "        self.output     = np.zeros(self.y.shape)\n",
    "\n",
    "    def feedforward(self):\n",
    "        self.layer1 = sigmoid(np.dot(self.input, self.weights1))\n",
    "        self.output = sigmoid(np.dot(self.layer1, self.weights2))\n",
    "\n",
    "    def backprop(self):\n",
    "        # application of the chain rule to find derivative of the loss function with respect to weights2 and weights1\n",
    "        d_weights2 = np.dot(self.layer1.T, (2*(self.y - self.output) * sigmoid_derivative(self.output)))\n",
    "        d_weights1 = np.dot(self.input.T,  (np.dot(2*(self.y - self.output) * sigmoid_derivative(self.output), self.weights2.T) * sigmoid_derivative(self.layer1)))\n",
    "\n",
    "        # update the weights with the derivative (slope) of the loss function\n",
    "        self.weights1 += d_weights1\n",
    "        self.weights2 += d_weights2"
   ]
  },
  {
   "cell_type": "markdown",
   "id": "bbe02407",
   "metadata": {},
   "source": [
    "# Create a hypothetical data"
   ]
  },
  {
   "cell_type": "code",
   "execution_count": 7,
   "id": "e007bf8e",
   "metadata": {},
   "outputs": [],
   "source": [
    "X = np.array([[0,0,1],[0,1,1],[1,0,1],[1,1,1]])\n",
    "y = np.array([[0],[1],[1],[0]])\n",
    "nn = NeuralNetwork(X,y)"
   ]
  },
  {
   "cell_type": "code",
   "execution_count": 8,
   "id": "ead246ea",
   "metadata": {},
   "outputs": [],
   "source": [
    "for i in range(1000):\n",
    "    nn.feedforward()\n",
    "    nn.backprop()\n"
   ]
  },
  {
   "cell_type": "code",
   "execution_count": 9,
   "id": "f341ae64",
   "metadata": {},
   "outputs": [
    {
     "data": {
      "text/plain": [
       "array([[ 2.94989583,  3.11254159,  2.30007446,  6.45537344],\n",
       "       [-1.8310638 ,  4.59655862,  2.09737105,  5.75293706],\n",
       "       [ 1.90206555, -5.72462876,  0.1858074 , -2.61660274]])"
      ]
     },
     "execution_count": 9,
     "metadata": {},
     "output_type": "execute_result"
    }
   ],
   "source": [
    "nn.weights1"
   ]
  },
  {
   "cell_type": "code",
   "execution_count": 10,
   "id": "a93fe130",
   "metadata": {},
   "outputs": [
    {
     "data": {
      "text/plain": [
       "array([[-5.01130528],\n",
       "       [-8.85117516],\n",
       "       [ 0.57637541],\n",
       "       [ 8.53980507]])"
      ]
     },
     "execution_count": 10,
     "metadata": {},
     "output_type": "execute_result"
    }
   ],
   "source": [
    "nn.weights2"
   ]
  },
  {
   "cell_type": "code",
   "execution_count": 11,
   "id": "68a68e39",
   "metadata": {},
   "outputs": [
    {
     "name": "stdout",
     "output_type": "stream",
     "text": [
      "[0.02953126] [0]\n",
      "[0.98106555] [1]\n",
      "[0.96489607] [1]\n",
      "[0.03078749] [0]\n"
     ]
    }
   ],
   "source": [
    "for i in range(y.shape[0]):\n",
    "    print(nn.output[i],y[i])\n"
   ]
  },
  {
   "cell_type": "code",
   "execution_count": null,
   "id": "b6254315",
   "metadata": {},
   "outputs": [],
   "source": []
  }
 ],
 "metadata": {
  "kernelspec": {
   "display_name": "Python 3 (ipykernel)",
   "language": "python",
   "name": "python3"
  },
  "language_info": {
   "codemirror_mode": {
    "name": "ipython",
    "version": 3
   },
   "file_extension": ".py",
   "mimetype": "text/x-python",
   "name": "python",
   "nbconvert_exporter": "python",
   "pygments_lexer": "ipython3",
   "version": "3.7.9"
  }
 },
 "nbformat": 4,
 "nbformat_minor": 5
}
